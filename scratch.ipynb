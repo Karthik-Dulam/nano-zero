{
 "cells": [
  {
   "cell_type": "code",
   "execution_count": 1,
   "metadata": {},
   "outputs": [
    {
     "name": "stderr",
     "output_type": "stream",
     "text": [
      "/mnt/51eb0667-f71d-4fe0-a83e-beaff24c04fb/anaconda/envs/vaanienv/lib/python3.12/site-packages/tqdm/auto.py:21: TqdmWarning: IProgress not found. Please update jupyter and ipywidgets. See https://ipywidgets.readthedocs.io/en/stable/user_install.html\n",
      "  from .autonotebook import tqdm as notebook_tqdm\n"
     ]
    }
   ],
   "source": [
    "import torch\n",
    "from transformers import AutoTokenizer, AutoModelForCausalLM, Trainer, TrainingArguments\n",
    "from datasets import Dataset, load_dataset\n",
    "import os\n",
    "\n",
    "# Hyperparameters\n",
    "MODEL_NAME = \"Qwen/Qwen2.5-0.5B-Instruct\"\n",
    "DATASET_PATH = \"sudoku_sft_data.json\"\n",
    "OUTPUT_DIR = \"outputs/Qwen2.5-0.5B-GRPO-Sudoku/\"\n",
    "BATCH_SIZE = 8\n",
    "LEARNING_RATE = 2e-5\n",
    "GRADIENT_ACCUMULATION_STEPS = 1\n",
    "NUM_EPOCHS = 3\n",
    "\n",
    "# Load model and tokenizer\n",
    "model = AutoModelForCausalLM.from_pretrained(MODEL_NAME).to(\"cuda\")\n",
    "tokenizer = AutoTokenizer.from_pretrained(MODEL_NAME)\n",
    "tokenizer.pad_token = tokenizer.eos_token\n",
    "\n",
    "\n",
    "# Preprocess data\n",
    "def preprocess_function(examples):\n",
    "    inputs = examples[\"instruction\"] + examples[\"input\"]\n",
    "    targets = examples[\"output\"]\n",
    "    text = tokenizer(f\"<instruction>, {inputs}, <output>, {targets}{tokenizer.eos_token}\", return_tensors=\"pt\", padding=\"longest\")\n",
    "    return text"
   ]
  },
  {
   "cell_type": "code",
   "execution_count": 2,
   "metadata": {},
   "outputs": [],
   "source": [
    "data = load_dataset(\"json\", data_files=DATASET_PATH)"
   ]
  },
  {
   "cell_type": "code",
   "execution_count": 3,
   "metadata": {},
   "outputs": [],
   "source": [
    "data[\"train\"] = data[\"train\"].take(10)"
   ]
  },
  {
   "cell_type": "code",
   "execution_count": 4,
   "metadata": {},
   "outputs": [
    {
     "data": {
      "text/plain": [
       "{'instruction': 'Solve this Sudoku puzzle:',\n",
       " 'input': '8 9 4 7 2 6 3 1 5 2 0 7 3 0 0 8 4 0 3 1 0 4 8 9 2 6 0 6 4 2 0 5 7 1 9 3 1 5 8 0 3 2 4 7 6 9 7 3 1 6 4 5 2 0 4 8 1 6 9 3 0 5 2 0 3 0 0 0 1 9 8 4 7 2 9 0 4 0 6 3 1',\n",
       " 'output': '<thonk> I see a sudoku problem. Most of its cells are filled. So it should be easy to finish it.\\nIn row 4 the only missing element is 8 so row 4 column 4 must be 8.\\nCurrent board:\\n8 9 4 7 2 6 3 1 5\\n2 0 7 3 0 0 8 4 0\\n3 1 0 4 8 9 2 6 0\\n6 4 2 8 5 7 1 9 3\\n1 5 8 0 3 2 4 7 6\\n9 7 3 1 6 4 5 2 0\\n4 8 1 6 9 3 0 5 2\\n0 3 0 0 0 1 9 8 4\\n7 2 9 0 4 0 6 3 1\\nIn column 1 the only missing element is 5 so row 8 column 1 must be 5.\\nCurrent board:\\n8 9 4 7 2 6 3 1 5\\n2 0 7 3 0 0 8 4 0\\n3 1 0 4 8 9 2 6 0\\n6 4 2 8 5 7 1 9 3\\n1 5 8 0 3 2 4 7 6\\n9 7 3 1 6 4 5 2 0\\n4 8 1 6 9 3 0 5 2\\n5 3 0 0 0 1 9 8 4\\n7 2 9 0 4 0 6 3 1\\nIn row 5 the only missing element is 9 so row 5 column 4 must be 9.\\nCurrent board:\\n8 9 4 7 2 6 3 1 5\\n2 0 7 3 0 0 8 4 0\\n3 1 0 4 8 9 2 6 0\\n6 4 2 8 5 7 1 9 3\\n1 5 8 9 3 2 4 7 6\\n9 7 3 1 6 4 5 2 0\\n4 8 1 6 9 3 0 5 2\\n5 3 0 0 0 1 9 8 4\\n7 2 9 0 4 0 6 3 1\\nIn column 2 the only missing element is 6 so row 2 column 2 must be 6.\\nCurrent board:\\n8 9 4 7 2 6 3 1 5\\n2 6 7 3 0 0 8 4 0\\n3 1 0 4 8 9 2 6 0\\n6 4 2 8 5 7 1 9 3\\n1 5 8 9 3 2 4 7 6\\n9 7 3 1 6 4 5 2 0\\n4 8 1 6 9 3 0 5 2\\n5 3 0 0 0 1 9 8 4\\n7 2 9 0 4 0 6 3 1\\nIn row 6 the only missing element is 8 so row 6 column 9 must be 8.\\nCurrent board:\\n8 9 4 7 2 6 3 1 5\\n2 6 7 3 0 0 8 4 0\\n3 1 0 4 8 9 2 6 0\\n6 4 2 8 5 7 1 9 3\\n1 5 8 9 3 2 4 7 6\\n9 7 3 1 6 4 5 2 8\\n4 8 1 6 9 3 0 5 2\\n5 3 0 0 0 1 9 8 4\\n7 2 9 0 4 0 6 3 1\\nIn column 7 the only missing element is 7 so row 7 column 7 must be 7.\\nCurrent board:\\n8 9 4 7 2 6 3 1 5\\n2 6 7 3 0 0 8 4 0\\n3 1 0 4 8 9 2 6 0\\n6 4 2 8 5 7 1 9 3\\n1 5 8 9 3 2 4 7 6\\n9 7 3 1 6 4 5 2 8\\n4 8 1 6 9 3 7 5 2\\n5 3 0 0 0 1 9 8 4\\n7 2 9 0 4 0 6 3 1\\nIn block (1, 1) the only missing element is 5 so row 3 column 3 must be 5.\\nCurrent board:\\n8 9 4 7 2 6 3 1 5\\n2 6 7 3 0 0 8 4 0\\n3 1 5 4 8 9 2 6 0\\n6 4 2 8 5 7 1 9 3\\n1 5 8 9 3 2 4 7 6\\n9 7 3 1 6 4 5 2 8\\n4 8 1 6 9 3 7 5 2\\n5 3 0 0 0 1 9 8 4\\n7 2 9 0 4 0 6 3 1\\nIn column 3 the only missing element is 6 so row 8 column 3 must be 6.\\nCurrent board:\\n8 9 4 7 2 6 3 1 5\\n2 6 7 3 0 0 8 4 0\\n3 1 5 4 8 9 2 6 0\\n6 4 2 8 5 7 1 9 3\\n1 5 8 9 3 2 4 7 6\\n9 7 3 1 6 4 5 2 8\\n4 8 1 6 9 3 7 5 2\\n5 3 6 0 0 1 9 8 4\\n7 2 9 0 4 0 6 3 1\\nIn row 3 the only missing element is 7 so row 3 column 9 must be 7.\\nCurrent board:\\n8 9 4 7 2 6 3 1 5\\n2 6 7 3 0 0 8 4 0\\n3 1 5 4 8 9 2 6 7\\n6 4 2 8 5 7 1 9 3\\n1 5 8 9 3 2 4 7 6\\n9 7 3 1 6 4 5 2 8\\n4 8 1 6 9 3 7 5 2\\n5 3 6 0 0 1 9 8 4\\n7 2 9 0 4 0 6 3 1\\nIn column 9 the only missing element is 9 so row 2 column 9 must be 9.\\nCurrent board:\\n8 9 4 7 2 6 3 1 5\\n2 6 7 3 0 0 8 4 9\\n3 1 5 4 8 9 2 6 7\\n6 4 2 8 5 7 1 9 3\\n1 5 8 9 3 2 4 7 6\\n9 7 3 1 6 4 5 2 8\\n4 8 1 6 9 3 7 5 2\\n5 3 6 0 0 1 9 8 4\\n7 2 9 0 4 0 6 3 1\\nI think this completes the sudoku. Let me check:\\n8 9 4 7 2 6 3 1 5\\n2 6 7 3 0 0 8 4 9\\n3 1 5 4 8 9 2 6 7\\n6 4 2 8 5 7 1 9 3\\n1 5 8 9 3 2 4 7 6\\n9 7 3 1 6 4 5 2 8\\n4 8 1 6 9 3 7 5 2\\n5 3 6 0 0 1 9 8 4\\n7 2 9 0 4 0 6 3 1\\nLets see if it satisfies the sudoku rules. </thonk>\\n<ans>\\n8 9 4 7 2 6 3 1 5 2 6 7 3 1 5 8 4 9 3 1 5 4 8 9 2 6 7 6 4 2 8 5 7 1 9 3 1 5 8 9 3 2 4 7 6 9 7 3 1 6 4 5 2 8 4 8 1 6 9 3 7 5 2 5 3 6 2 7 1 9 8 4 7 2 9 5 4 8 6 3 1\\n</ans>'}"
      ]
     },
     "execution_count": 4,
     "metadata": {},
     "output_type": "execute_result"
    }
   ],
   "source": [
    "data[\"train\"][0]"
   ]
  },
  {
   "cell_type": "code",
   "execution_count": 5,
   "metadata": {},
   "outputs": [
    {
     "name": "stderr",
     "output_type": "stream",
     "text": [
      "Map: 100%|██████████| 10/10 [00:00<00:00, 50.86 examples/s]\n"
     ]
    },
    {
     "data": {
      "text/plain": [
       "tensor([[    27,  54974,   8066,  ...,    596,     29, 151645]])"
      ]
     },
     "execution_count": 5,
     "metadata": {},
     "output_type": "execute_result"
    }
   ],
   "source": [
    "tokenized_datasets = data.map(preprocess_function, remove_columns=[\"instruction\", \"input\", \"output\"]).with_format(\"torch\")\n",
    "tokenized_datasets[\"train\"][0][\"input_ids\"]"
   ]
  },
  {
   "cell_type": "code",
   "execution_count": null,
   "metadata": {},
   "outputs": [
    {
     "name": "stdout",
     "output_type": "stream",
     "text": [
      "torch.Size([1, 2438])\n"
     ]
    },
    {
     "data": {
      "text/plain": [
       "tensor(0.3472, device='cuda:0', grad_fn=<NllLossBackward0>)"
      ]
     },
     "execution_count": 6,
     "metadata": {},
     "output_type": "execute_result"
    }
   ],
   "source": [
    "with torch.no_grad():\n",
    "    input_ids = tokenized_datasets[\"train\"][0][\"input_ids\"].to(\"cuda\")\n",
    "    print(input_ids.shape)\n",
    "    model(input_ids, labels=input_ids).loss"
   ]
  },
  {
   "cell_type": "code",
   "execution_count": 7,
   "metadata": {},
   "outputs": [
    {
     "name": "stderr",
     "output_type": "stream",
     "text": [
      "/tmp/ipykernel_3853815/801810667.py:1: FutureWarning: You are using `torch.load` with `weights_only=False` (the current default value), which uses the default pickle module implicitly. It is possible to construct malicious pickle data which will execute arbitrary code during unpickling (See https://github.com/pytorch/pytorch/blob/main/SECURITY.md#untrusted-models for more details). In a future release, the default value for `weights_only` will be flipped to `True`. This limits the functions that could be executed during unpickling. Arbitrary objects will no longer be allowed to be loaded via this mode unless they are explicitly allowlisted by the user via `torch.serialization.add_safe_globals`. We recommend you start setting `weights_only=True` for any use case where you don't have full control of the loaded file. Please open an issue on GitHub for any issues related to this experimental feature.\n",
      "  checkpoint = torch.load(\"outputs/Qwen2.5-0.5B-SFT/last-v1.ckpt\")\n"
     ]
    },
    {
     "data": {
      "text/plain": [
       "dict_keys(['epoch', 'global_step', 'pytorch-lightning_version', 'state_dict', 'loops', 'callbacks', 'optimizer_states', 'lr_schedulers'])"
      ]
     },
     "execution_count": 7,
     "metadata": {},
     "output_type": "execute_result"
    }
   ],
   "source": [
    "checkpoint = torch.load(\"outputs/Qwen2.5-0.5B-SFT/last-v1.ckpt\")\n",
    "checkpoint.keys()"
   ]
  },
  {
   "cell_type": "code",
   "execution_count": 8,
   "metadata": {},
   "outputs": [
    {
     "data": {
      "text/plain": [
       "Qwen2ForCausalLM(\n",
       "  (model): Qwen2Model(\n",
       "    (embed_tokens): Embedding(151936, 896)\n",
       "    (layers): ModuleList(\n",
       "      (0-23): 24 x Qwen2DecoderLayer(\n",
       "        (self_attn): Qwen2Attention(\n",
       "          (q_proj): Linear(in_features=896, out_features=896, bias=True)\n",
       "          (k_proj): Linear(in_features=896, out_features=128, bias=True)\n",
       "          (v_proj): Linear(in_features=896, out_features=128, bias=True)\n",
       "          (o_proj): Linear(in_features=896, out_features=896, bias=False)\n",
       "        )\n",
       "        (mlp): Qwen2MLP(\n",
       "          (gate_proj): Linear(in_features=896, out_features=4864, bias=False)\n",
       "          (up_proj): Linear(in_features=896, out_features=4864, bias=False)\n",
       "          (down_proj): Linear(in_features=4864, out_features=896, bias=False)\n",
       "          (act_fn): SiLU()\n",
       "        )\n",
       "        (input_layernorm): Qwen2RMSNorm((896,), eps=1e-06)\n",
       "        (post_attention_layernorm): Qwen2RMSNorm((896,), eps=1e-06)\n",
       "      )\n",
       "    )\n",
       "    (norm): Qwen2RMSNorm((896,), eps=1e-06)\n",
       "    (rotary_emb): Qwen2RotaryEmbedding()\n",
       "  )\n",
       "  (lm_head): Linear(in_features=896, out_features=151936, bias=False)\n",
       ")"
      ]
     },
     "execution_count": 8,
     "metadata": {},
     "output_type": "execute_result"
    }
   ],
   "source": [
    "state_dict = {}\n",
    "for key in checkpoint[\"state_dict\"].keys():\n",
    "    # remove the prefix \"model.\"\n",
    "    state_dict[key.replace(\"model.\", \"\", 1)] = checkpoint[\"state_dict\"][key]\n",
    "\n",
    "model.load_state_dict(state_dict)\n",
    "model.eval()\n",
    "model.to(\"cuda\")"
   ]
  },
  {
   "cell_type": "code",
   "execution_count": 9,
   "metadata": {},
   "outputs": [
    {
     "data": {
      "text/plain": [
       "('<instruction>, Solve this Sudoku puzzle:\\nSolve this Sudoku puzzle:8 9 4 7 2 6 3 1 5 2 0 7 3 0 0 8 4 0 3 1 0 4 8 9 2 6 0 6 4 2 0 5 7 1 9 3 1 5 8 0 3 2 4 7 6 9 7 3 1 6 4 5 2 0 4 8 1 6 9 3 0 5 2 0 3 0 0 0 1 9 8 4 7 2 9 0 4 0 6 3 1, <output>, ',\n",
       " {'input_ids': tensor([[   27, 54974,  8066, 63284,   419, 94254, 24626,   510,    50,  3948,\n",
       "            419, 94254, 24626,    25,    23,   220,    24,   220,    19,   220,\n",
       "             22,   220,    17,   220,    21,   220,    18,   220,    16,   220,\n",
       "             20,   220,    17,   220,    15,   220,    22,   220,    18,   220,\n",
       "             15,   220,    15,   220,    23,   220,    19,   220,    15,   220,\n",
       "             18,   220,    16,   220,    15,   220,    19,   220,    23,   220,\n",
       "             24,   220,    17,   220,    21,   220,    15,   220,    21,   220,\n",
       "             19,   220,    17,   220,    15,   220,    20,   220,    22,   220,\n",
       "             16,   220,    24,   220,    18,   220,    16,   220,    20,   220,\n",
       "             23,   220,    15,   220,    18,   220,    17,   220,    19,   220,\n",
       "             22,   220,    21,   220,    24,   220,    22,   220,    18,   220,\n",
       "             16,   220,    21,   220,    19,   220,    20,   220,    17,   220,\n",
       "             15,   220,    19,   220,    23,   220,    16,   220,    21,   220,\n",
       "             24,   220,    18,   220,    15,   220,    20,   220,    17,   220,\n",
       "             15,   220,    18,   220,    15,   220,    15,   220,    15,   220,\n",
       "             16,   220,    24,   220,    23,   220,    19,   220,    22,   220,\n",
       "             17,   220,    24,   220,    15,   220,    19,   220,    15,   220,\n",
       "             21,   220,    18,   220,    16,    11,   366,  3006,  8066,   220]],\n",
       "        device='cuda:0'), 'attention_mask': tensor([[1, 1, 1, 1, 1, 1, 1, 1, 1, 1, 1, 1, 1, 1, 1, 1, 1, 1, 1, 1, 1, 1, 1, 1,\n",
       "          1, 1, 1, 1, 1, 1, 1, 1, 1, 1, 1, 1, 1, 1, 1, 1, 1, 1, 1, 1, 1, 1, 1, 1,\n",
       "          1, 1, 1, 1, 1, 1, 1, 1, 1, 1, 1, 1, 1, 1, 1, 1, 1, 1, 1, 1, 1, 1, 1, 1,\n",
       "          1, 1, 1, 1, 1, 1, 1, 1, 1, 1, 1, 1, 1, 1, 1, 1, 1, 1, 1, 1, 1, 1, 1, 1,\n",
       "          1, 1, 1, 1, 1, 1, 1, 1, 1, 1, 1, 1, 1, 1, 1, 1, 1, 1, 1, 1, 1, 1, 1, 1,\n",
       "          1, 1, 1, 1, 1, 1, 1, 1, 1, 1, 1, 1, 1, 1, 1, 1, 1, 1, 1, 1, 1, 1, 1, 1,\n",
       "          1, 1, 1, 1, 1, 1, 1, 1, 1, 1, 1, 1, 1, 1, 1, 1, 1, 1, 1, 1, 1, 1, 1, 1,\n",
       "          1, 1, 1, 1, 1, 1, 1, 1, 1, 1, 1, 1]], device='cuda:0')})"
      ]
     },
     "execution_count": 9,
     "metadata": {},
     "output_type": "execute_result"
    }
   ],
   "source": [
    "prompt = f\"<instruction>, Solve this Sudoku puzzle:\\n{data['train'][0]['instruction'] + data['train'][0]['input']}, <output>, \"\n",
    "y = tokenizer(prompt, return_tensors=\"pt\", padding=\"longest\").to(\"cuda\")\n",
    "prompt, y"
   ]
  },
  {
   "cell_type": "code",
   "execution_count": 10,
   "metadata": {},
   "outputs": [],
   "source": [
    "from sudoku import Sudoku\n",
    "import numpy as np"
   ]
  },
  {
   "cell_type": "code",
   "execution_count": 20,
   "metadata": {},
   "outputs": [
    {
     "name": "stdout",
     "output_type": "stream",
     "text": [
      "Puzzle has exactly one solution\n",
      "+-------+-------+-------+\n",
      "| 5 1 9 | 4 7 2 | 6 3 8 |\n",
      "| 3 8 4 | 5 6   |     2 |\n",
      "| 6 2 7 | 8 9 3 | 1 5 4 |\n",
      "+-------+-------+-------+\n",
      "| 9 5 1 | 2 4 6 | 8   3 |\n",
      "| 2 6   | 3 5 7 | 9 4 1 |\n",
      "| 4 7 3 |   8 9 | 5 2 6 |\n",
      "+-------+-------+-------+\n",
      "| 7 9 2 | 6 1 4 | 3 8 5 |\n",
      "| 8   6 | 7 3 5 | 2 1 9 |\n",
      "| 1 3 5 | 9 2   | 4 6 7 |\n",
      "+-------+-------+-------+\n",
      "\n"
     ]
    },
    {
     "data": {
      "text/plain": [
       "('<instruction>\\nSolve this Sudoku puzzle:\\n<instruction>\\n<input>\\n5 1 9 4 7 2 6 3 8 3 8 4 5 6 0 0 0 2 6 2 7 8 9 3 1 5 4 9 5 1 2 4 6 8 0 3 2 6 0 3 5 7 9 4 1 4 7 3 0 8 9 5 2 6 7 9 2 6 1 4 3 8 5 8 0 6 7 3 5 2 1 9 1 3 5 9 2 0 4 6 7\\n<output>\\n<output>\\n',\n",
       " {'input_ids': tensor([[   27, 54974,   397,    50,  3948,   419, 94254, 24626,   510,    27,\n",
       "          54974,   397,  9182,   397,    20,   220,    16,   220,    24,   220,\n",
       "             19,   220,    22,   220,    17,   220,    21,   220,    18,   220,\n",
       "             23,   220,    18,   220,    23,   220,    19,   220,    20,   220,\n",
       "             21,   220,    15,   220,    15,   220,    15,   220,    17,   220,\n",
       "             21,   220,    17,   220,    22,   220,    23,   220,    24,   220,\n",
       "             18,   220,    16,   220,    20,   220,    19,   220,    24,   220,\n",
       "             20,   220,    16,   220,    17,   220,    19,   220,    21,   220,\n",
       "             23,   220,    15,   220,    18,   220,    17,   220,    21,   220,\n",
       "             15,   220,    18,   220,    20,   220,    22,   220,    24,   220,\n",
       "             19,   220,    16,   220,    19,   220,    22,   220,    18,   220,\n",
       "             15,   220,    23,   220,    24,   220,    20,   220,    17,   220,\n",
       "             21,   220,    22,   220,    24,   220,    17,   220,    21,   220,\n",
       "             16,   220,    19,   220,    18,   220,    23,   220,    20,   220,\n",
       "             23,   220,    15,   220,    21,   220,    22,   220,    18,   220,\n",
       "             20,   220,    17,   220,    16,   220,    24,   220,    16,   220,\n",
       "             18,   220,    20,   220,    24,   220,    17,   220,    15,   220,\n",
       "             19,   220,    21,   220,    22,   198,    27,  3006,   397,    27,\n",
       "           3006,   397]], device='cuda:0'), 'attention_mask': tensor([[1, 1, 1, 1, 1, 1, 1, 1, 1, 1, 1, 1, 1, 1, 1, 1, 1, 1, 1, 1, 1, 1, 1, 1,\n",
       "          1, 1, 1, 1, 1, 1, 1, 1, 1, 1, 1, 1, 1, 1, 1, 1, 1, 1, 1, 1, 1, 1, 1, 1,\n",
       "          1, 1, 1, 1, 1, 1, 1, 1, 1, 1, 1, 1, 1, 1, 1, 1, 1, 1, 1, 1, 1, 1, 1, 1,\n",
       "          1, 1, 1, 1, 1, 1, 1, 1, 1, 1, 1, 1, 1, 1, 1, 1, 1, 1, 1, 1, 1, 1, 1, 1,\n",
       "          1, 1, 1, 1, 1, 1, 1, 1, 1, 1, 1, 1, 1, 1, 1, 1, 1, 1, 1, 1, 1, 1, 1, 1,\n",
       "          1, 1, 1, 1, 1, 1, 1, 1, 1, 1, 1, 1, 1, 1, 1, 1, 1, 1, 1, 1, 1, 1, 1, 1,\n",
       "          1, 1, 1, 1, 1, 1, 1, 1, 1, 1, 1, 1, 1, 1, 1, 1, 1, 1, 1, 1, 1, 1, 1, 1,\n",
       "          1, 1, 1, 1, 1, 1, 1, 1, 1, 1, 1, 1, 1, 1]], device='cuda:0')})"
      ]
     },
     "execution_count": 20,
     "metadata": {},
     "output_type": "execute_result"
    }
   ],
   "source": [
    "sud = Sudoku().difficulty(0.1)\n",
    "sud.show()\n",
    "problem = \" \".join([str(cell or 0) for row in sud.board for cell in row])\n",
    "prompt = (\n",
    "    f\"<instruction>\\nSolve this Sudoku puzzle:\\n</instruction>\\n\"\n",
    "    f\"<input>\\n{problem}\\n</output>\\n\"\n",
    "    \"<output>\\n\"\n",
    ")\n",
    "y = tokenizer(prompt, return_tensors=\"pt\", padding=\"longest\").to(\"cuda\")\n",
    "prompt, y"
   ]
  },
  {
   "cell_type": "code",
   "execution_count": 22,
   "metadata": {},
   "outputs": [
    {
     "data": {
      "text/plain": [
       "'<instruction>\\nSolve this Sudoku puzzle:\\n<instruction>\\n<input>\\n5 1 9 4 7 2 6 3 8 3 8 4 5 6 0 0 0 2 6 2 7 8 9 3 1 5 4 9 5 1 2 4 6 8 0 3 2 6 0 3 5 7 9 4 1 4 7 3 0 8 9 5 2 6 7 9 2 6 1 4 3 8 5 8 0 6 7 3 5 2 1 9 1 3 5 9 2 0 4 6 7\\n<output>\\n<output>\\n<entry>\\n3 1 9 4 7 2 6 8 5 0 4 0 5 6 9 1 2 7 6 5 0 1 0 4 0 0 0 5 2 0 7 0 0 9 0 1 0 9 6 8 3 5 1 7 4 2 3 7 3 0 2 4 0 6\\n</entry>\\n<entry>\\n7 8 1 0 3 2 4 9 6 2 0 6 8 0 4 3 1 0 9 4 3 0 1 6 5 8 2 7\\n</entry>\\n<entry>\\n0 9 3 2 5 1 6 8 4 5 6 0 0 4 8 2 3 0 5 0 0 3 2 0 7 9 1 5 1 7 9 6 4 3 0 2 0 8 2 0 7 9 1 5 6 4 3\\n</entry>\\n<entry>\\n4 7 2 6 0 0 0 5 9 3 6 5 0 1 4 8 2 7 1 0 0 4 0 2 5 3 6 0\\n</entry>\\n<entry>\\n8 9 0 7 0 1 6 3 4 0 3 0 4 6 0 9 7 2 7 2 6 9 3 5 1 8 0\\n</entry>\\n<entry>\\n6 5 0 8 3 0 4 0 1 4 1 3 2 0 5 9 6 7\\n</entry>\\n<entry>\\n3 9 5 0 0 4 1 8 6 0 6 0 3 1 0 2 4 9 2 7 0 9 5 6 3 0 1 8\\n</entry>\\n<entry>\\n7 8 1 4 6 5 3 2 9 5 0 6 0 0 0 0 4 7 3 2 4 9 0 1 8 6 5 6\\n</entry>\\n<entry>\\n4 7 2 6 3 1 9 8 5 0 3 0 7 0 6 0 1 2 1 6 9 5 2 4 7 3 0 8\\n</entry>\\n<entry>\\n8 9 4 7 0 0 6 5 1 0 3 2 1 8 5 4 7 0 6 5 7 3 9 4 2 8 0 1\\n</entry>\\n<entry>\\n6 5 0 8 0 1 4 3 0 4 6 1 9 3 5 7 0 2\\n</entry>\\n<entry>\\n3 9 5 2 6 7 0 1 8 0\\n</entry>\\n</input>\\n<output>\\n<entry>\\n2 1 9 4 7 2 6 3 8 3 8 4 5 6 9 1 2 7 6 5 6 1 3 4 0 9 0 5\\n</entry>\\n<entry>\\n7 8 1 0 3 2 4 9 6 2 0 6 8 0 4 2 3 0 7\\n</entry>\\n<entry>\\n0 9 3 2 5 1 6 8 4 5 4 3 7 1 6 9 2 0 7\\n</entry>\\n<entry>\\n4 7 2 6 0 0 0 5 9 3 6 0 4 0 2 9 7 1 5\\n</entry>\\n<entry>\\n8 9 0 7 0 1 6 3 4 1 3 0 4 0 2 5 6 0 8\\n</entry>\\n'"
      ]
     },
     "execution_count": 22,
     "metadata": {},
     "output_type": "execute_result"
    }
   ],
   "source": [
    "with torch.no_grad():\n",
    "    x = model.generate(**y, max_new_tokens=1000)\n",
    "    gentext = tokenizer.decode(x[0], skip_special_tokens=True)\n",
    "gentext"
   ]
  },
  {
   "cell_type": "code",
   "execution_count": 1,
   "metadata": {},
   "outputs": [
    {
     "ename": "IndexError",
     "evalue": "string index out of range",
     "output_type": "error",
     "traceback": [
      "\u001b[0;31m---------------------------------------------------------------------------\u001b[0m",
      "\u001b[0;31mIndexError\u001b[0m                                Traceback (most recent call last)",
      "Cell \u001b[0;32mIn[1], line 4\u001b[0m\n\u001b[1;32m      1\u001b[0m sudoku_string \u001b[38;5;241m=\u001b[39m \u001b[38;5;124m\"\u001b[39m\u001b[38;5;124m157394628468713592893625147912846537846293715734986512629531874581472936\u001b[39m\u001b[38;5;124m\"\u001b[39m\n\u001b[1;32m      3\u001b[0m \u001b[38;5;66;03m# Convert the string to a 9x9 Sudoku board\u001b[39;00m\n\u001b[0;32m----> 4\u001b[0m sudoku_board \u001b[38;5;241m=\u001b[39m [[\u001b[38;5;28mint\u001b[39m(\u001b[43msudoku_string\u001b[49m\u001b[43m[\u001b[49m\u001b[43mi\u001b[49m\u001b[43m \u001b[49m\u001b[38;5;241;43m*\u001b[39;49m\u001b[43m \u001b[49m\u001b[38;5;241;43m9\u001b[39;49m\u001b[43m \u001b[49m\u001b[38;5;241;43m+\u001b[39;49m\u001b[43m \u001b[49m\u001b[43mj\u001b[49m\u001b[43m]\u001b[49m) \u001b[38;5;28;01mfor\u001b[39;00m j \u001b[38;5;129;01min\u001b[39;00m \u001b[38;5;28mrange\u001b[39m(\u001b[38;5;241m9\u001b[39m)] \u001b[38;5;28;01mfor\u001b[39;00m i \u001b[38;5;129;01min\u001b[39;00m \u001b[38;5;28mrange\u001b[39m(\u001b[38;5;241m9\u001b[39m)]\n\u001b[1;32m      6\u001b[0m \u001b[38;5;66;03m# Print the Sudoku board\u001b[39;00m\n\u001b[1;32m      7\u001b[0m \u001b[38;5;28;01mfor\u001b[39;00m row \u001b[38;5;129;01min\u001b[39;00m sudoku_board:\n",
      "\u001b[0;31mIndexError\u001b[0m: string index out of range"
     ]
    }
   ],
   "source": [
    "sudoku_string = \"157394628468713592893625147912846537846293715734986512629531874581472936\"\n",
    "\n",
    "# Convert the string to a 9x9 Sudoku board\n",
    "sudoku_board = [[int(sudoku_string[i * 9 + j]) for j in range(9)] for i in range(9)]\n",
    "\n",
    "# Print the Sudoku board\n",
    "for row in sudoku_board:\n",
    "    print(row)"
   ]
  },
  {
   "cell_type": "code",
   "execution_count": 2,
   "metadata": {},
   "outputs": [
    {
     "data": {
      "text/plain": [
       "72"
      ]
     },
     "execution_count": 2,
     "metadata": {},
     "output_type": "execute_result"
    }
   ],
   "source": [
    "len(sudoku_string)"
   ]
  }
 ],
 "metadata": {
  "kernelspec": {
   "display_name": "vaanienv",
   "language": "python",
   "name": "python3"
  },
  "language_info": {
   "codemirror_mode": {
    "name": "ipython",
    "version": 3
   },
   "file_extension": ".py",
   "mimetype": "text/x-python",
   "name": "python",
   "nbconvert_exporter": "python",
   "pygments_lexer": "ipython3",
   "version": "3.12.8"
  }
 },
 "nbformat": 4,
 "nbformat_minor": 2
}
